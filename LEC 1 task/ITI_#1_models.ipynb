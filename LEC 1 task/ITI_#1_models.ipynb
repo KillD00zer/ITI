{
 "cells": [
  {
   "cell_type": "code",
   "execution_count": 44,
   "id": "506f622c",
   "metadata": {},
   "outputs": [],
   "source": [
    "import pandas as pd\n",
    "import numpy as np\n",
    "import plotly.express as px\n",
    "\n",
    "from sklearn.model_selection import train_test_split\n",
    "from sklearn.model_selection import cross_val_score , KFold\n",
    "from sklearn.model_selection import GridSearchCV\n",
    "from sklearn.neighbors import KNeighborsClassifier\n",
    "from sklearn.linear_model import LogisticRegression\n",
    "from sklearn.tree import DecisionTreeClassifier\n",
    "from sklearn.svm import SVC\n",
    "from sklearn.metrics import accuracy_score\n",
    "from sklearn.metrics import classification_report"
   ]
  },
  {
   "cell_type": "code",
   "execution_count": 23,
   "id": "d6ab4e7f",
   "metadata": {},
   "outputs": [
    {
     "name": "stderr",
     "output_type": "stream",
     "text": [
      "<>:1: SyntaxWarning: invalid escape sequence '\\K'\n",
      "<>:1: SyntaxWarning: invalid escape sequence '\\K'\n",
      "C:\\Users\\S\\AppData\\Local\\Temp\\ipykernel_18060\\1785025417.py:1: SyntaxWarning: invalid escape sequence '\\K'\n",
      "  Iris = pd.read_csv('D:\\K_REPO\\ITI\\Iris.csv')\n"
     ]
    }
   ],
   "source": [
    "Iris = pd.read_csv('D:\\K_REPO\\ITI\\Iris.csv')"
   ]
  },
  {
   "cell_type": "markdown",
   "id": "698b4053",
   "metadata": {},
   "source": [
    "\n",
    "### splitting data"
   ]
  },
  {
   "cell_type": "code",
   "execution_count": 24,
   "id": "90bbbd7a",
   "metadata": {},
   "outputs": [],
   "source": [
    "x= Iris.drop('target', axis=1)\n",
    "y= Iris['target']\n",
    "X_train, X_test, y_train, y_test = train_test_split(x, y, test_size=0.2, random_state=42 , stratify=y)"
   ]
  },
  {
   "cell_type": "markdown",
   "id": "430687eb",
   "metadata": {},
   "source": [
    "# MODELS:"
   ]
  },
  {
   "cell_type": "markdown",
   "id": "f8a3baf7",
   "metadata": {},
   "source": [
    "### 1.KNN in grid search 5 fold cross validation"
   ]
  },
  {
   "cell_type": "code",
   "execution_count": 28,
   "id": "679b39f7",
   "metadata": {},
   "outputs": [
    {
     "name": "stdout",
     "output_type": "stream",
     "text": [
      "best training score: 0.9833333333333334 at best parameter: {'n_neighbors': 6}\n",
      "best test accuracy: 0.9666666666666667\n"
     ]
    }
   ],
   "source": [
    "params= {'n_neighbors': range(2, 8)}\n",
    "KNN=KNeighborsClassifier()\n",
    "KNN_GS=GridSearchCV(KNN, params, cv=5 )\n",
    "\n",
    "##### training\n",
    "train= KNN_GS.fit(X_train,y_train)\n",
    "print(f\"best training score: {KNN_GS.best_score_} at best parameter: {KNN_GS.best_params_}\")\n",
    "\n",
    "\n",
    "#### testing\n",
    "y_pred_KNN= KNN_GS.predict(X_test)\n",
    "test_accuracy = accuracy_score(y_test, y_pred)\n",
    "print (f\"best test accuracy: {test_accuracy}\")"
   ]
  },
  {
   "cell_type": "code",
   "execution_count": 29,
   "id": "6fea08c1",
   "metadata": {},
   "outputs": [
    {
     "name": "stdout",
     "output_type": "stream",
     "text": [
      "              precision    recall  f1-score   support\n",
      "\n",
      "           0       1.00      1.00      1.00        10\n",
      "           1       0.91      1.00      0.95        10\n",
      "           2       1.00      0.90      0.95        10\n",
      "\n",
      "    accuracy                           0.97        30\n",
      "   macro avg       0.97      0.97      0.97        30\n",
      "weighted avg       0.97      0.97      0.97        30\n",
      "\n"
     ]
    }
   ],
   "source": [
    "print(classification_report(y_test, y_pred_KNN))"
   ]
  },
  {
   "cell_type": "markdown",
   "id": "08a87c7c",
   "metadata": {},
   "source": [
    "### 2.logistic regression"
   ]
  },
  {
   "cell_type": "code",
   "execution_count": 47,
   "id": "7f9ce45e",
   "metadata": {},
   "outputs": [
    {
     "name": "stdout",
     "output_type": "stream",
     "text": [
      "for logreg model with 5 folds CV best score is : 0.9666666666666668\n",
      "              precision    recall  f1-score   support\n",
      "\n",
      "           0       1.00      1.00      1.00        10\n",
      "           1       1.00      0.90      0.95        10\n",
      "           2       0.91      1.00      0.95        10\n",
      "\n",
      "    accuracy                           0.97        30\n",
      "   macro avg       0.97      0.97      0.97        30\n",
      "weighted avg       0.97      0.97      0.97        30\n",
      "\n"
     ]
    }
   ],
   "source": [
    "logreg_params={}\n",
    "logreg=LogisticRegression(max_iter=1000)\n",
    "logreg_GS = GridSearchCV(logreg, logreg_params, cv=5)\n",
    "\n",
    "logreg_GS.fit(X_train, y_train)\n",
    "print(f'for logreg model with 5 folds CV best score is : {logreg_GS.best_score_}')\n",
    "\n",
    "y_pred_logreg = logreg_GS.predict(X_test)\n",
    "print(classification_report(y_test, y_pred_logreg))"
   ]
  },
  {
   "cell_type": "markdown",
   "id": "625f65fd",
   "metadata": {},
   "source": [
    "### 3.Decision Tree"
   ]
  },
  {
   "cell_type": "code",
   "execution_count": 43,
   "id": "afbd162a",
   "metadata": {},
   "outputs": [
    {
     "name": "stdout",
     "output_type": "stream",
     "text": [
      "best training score: 0.9333333333333333\n",
      "              precision    recall  f1-score   support\n",
      "\n",
      "           0       1.00      1.00      1.00        10\n",
      "           1       0.90      0.90      0.90        10\n",
      "           2       0.90      0.90      0.90        10\n",
      "\n",
      "    accuracy                           0.93        30\n",
      "   macro avg       0.93      0.93      0.93        30\n",
      "weighted avg       0.93      0.93      0.93        30\n",
      "\n"
     ]
    }
   ],
   "source": [
    "tree_params = {}\n",
    "tree = DecisionTreeClassifier()\n",
    "tree_GS = GridSearchCV(tree, tree_params, cv=5)\n",
    "\n",
    "tree_GS.fit(X_train, y_train)\n",
    "print(f\"best training score: {tree_GS.best_score_}\")\n",
    "\n",
    "y_pred_tree = tree_GS.predict(X_test)\n",
    "\n",
    "print(classification_report(y_test, y_pred_tree))"
   ]
  },
  {
   "cell_type": "markdown",
   "id": "e2534514",
   "metadata": {},
   "source": [
    "### 4.SVM "
   ]
  },
  {
   "cell_type": "code",
   "execution_count": 45,
   "id": "1ced2356",
   "metadata": {},
   "outputs": [
    {
     "name": "stdout",
     "output_type": "stream",
     "text": [
      "for svc model with 5 folds CV best score is : 0.975\n",
      "              precision    recall  f1-score   support\n",
      "\n",
      "           0       1.00      1.00      1.00        10\n",
      "           1       1.00      0.90      0.95        10\n",
      "           2       0.91      1.00      0.95        10\n",
      "\n",
      "    accuracy                           0.97        30\n",
      "   macro avg       0.97      0.97      0.97        30\n",
      "weighted avg       0.97      0.97      0.97        30\n",
      "\n"
     ]
    }
   ],
   "source": [
    "svc_params={}\n",
    "svc=SVC()\n",
    "svc_GS = GridSearchCV(svc, svc_params, cv=5)\n",
    "\n",
    "svc_GS.fit(X_train, y_train)\n",
    "print(f'for svc model with 5 folds CV best score is : {svc_GS.best_score_}')\n",
    "\n",
    "y_pred_svc = svc_GS.predict(X_test)\n",
    "print(classification_report(y_test, y_pred_svc))"
   ]
  }
 ],
 "metadata": {
  "kernelspec": {
   "display_name": "Python 3",
   "language": "python",
   "name": "python3"
  },
  "language_info": {
   "codemirror_mode": {
    "name": "ipython",
    "version": 3
   },
   "file_extension": ".py",
   "mimetype": "text/x-python",
   "name": "python",
   "nbconvert_exporter": "python",
   "pygments_lexer": "ipython3",
   "version": "3.13.2"
  }
 },
 "nbformat": 4,
 "nbformat_minor": 5
}
